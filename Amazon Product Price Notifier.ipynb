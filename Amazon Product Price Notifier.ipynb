{
 "cells": [
  {
   "cell_type": "code",
   "execution_count": 13,
   "metadata": {},
   "outputs": [
    {
     "name": "stdout",
     "output_type": "stream",
     "text": [
      "Apple iPhone 11 Pro (64GB) - Space Grey\n",
      "99599.0\n",
      "Email has been sent!\n"
     ]
    }
   ],
   "source": [
    "import requests\n",
    "from bs4 import BeautifulSoup\n",
    "import smtplib\n",
    "import time\n",
    "URL = 'Amazon product link URL'\n",
    "headers = {\"User-Agent\":'Insert your device user agent'}\n",
    "\n",
    "def check_price():\n",
    "\n",
    "    page = requests.get(URL, headers=headers)\n",
    "    soup = BeautifulSoup(page.content, 'html.parser')\n",
    "    title = soup.find(id=\"productTitle\").get_text()\n",
    "    price = soup.find(id=\"priceblock_ourprice\").get_text()\n",
    "    converted_price = float(price[1:8].replace(',',''))\n",
    "    if(converted_price < 'Insert price in Integer'):\n",
    "        send_mail()\n",
    "    print(title.strip())\n",
    "    print(converted_price)\n",
    "    if(converted_price < 'Insert price in Integer'):\n",
    "        send_mail()\n",
    "\n",
    "def send_mail():\n",
    "    server = smtplib.SMTP('smtp.gmail.com', 587)\n",
    "    server.ehlo()\n",
    "    server.starttls()\n",
    "    server.ehlo()\n",
    "    \n",
    "    server.login('Your secondary email', 'Gmail less secure app-specific password')\n",
    "    \n",
    "    subject = 'Price fell down!'\n",
    "    body = 'Amazon product link URL'\n",
    "    \n",
    "    msg = f\"Subject:{subject}\\n\\n{body}\"\n",
    "    server.sendmail(\n",
    "        'Your secondary email',\n",
    "        'Your primary email',\n",
    "        msg\n",
    "    )\n",
    "    print('Email has been sent!')\n",
    "    server.quit()\n",
    "    \n",
    "while(True):\n",
    "    check_price()\n",
    "    time.sleep(60)"
   ]
  },
  {
   "cell_type": "code",
   "execution_count": null,
   "metadata": {},
   "outputs": [],
   "source": []
  }
 ],
 "metadata": {
  "kernelspec": {
   "display_name": "Python 3",
   "language": "python",
   "name": "python3"
  },
  "language_info": {
   "codemirror_mode": {
    "name": "ipython",
    "version": 3
   },
   "file_extension": ".py",
   "mimetype": "text/x-python",
   "name": "python",
   "nbconvert_exporter": "python",
   "pygments_lexer": "ipython3",
   "version": "3.7.6"
  }
 },
 "nbformat": 4,
 "nbformat_minor": 4
}
